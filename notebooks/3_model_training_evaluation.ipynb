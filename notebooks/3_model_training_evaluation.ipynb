{
 "cells": [
  {
   "cell_type": "markdown",
   "id": "721482c4",
   "metadata": {},
   "source": [
    "# Modélisation et Évaluation pour la Prédiction de Sentiment\n",
    "\n",
    "## Contexte\n",
    "\n",
    "Ce notebook couvre la phase de construction et d'évaluation des modèles de machine learning pour la classification de sentiment. Suite au prétraitement des données dans le notebook `2_data_preprocessing.ipynb`, nos données textuelles sont maintenant vectorisées et divisées en ensembles d'entraînement et de test.\n",
    "\n",
    "## Objectifs\n",
    "\n",
    "Les objectifs de cette phase sont :\n",
    "1. Sélectionner un ou plusieurs modèles de classification adaptés à notre problème.\n",
    "2. Entraîner ces modèles sur l'ensemble d'entraînement.\n",
    "3. Évaluer rigoureusement les performances des modèles sur l'ensemble de test, en utilisant des métriques appropriées, notamment en considérant le léger déséquilibre des classes observé pendant l'EDA.\n",
    "4. Comparer les modèles évalués.\n",
    "5. Préparer le terrain pour la sélection finale du \"meilleur\" modèle, en tenant compte non seulement des performances, mais aussi des contraintes pour une intégration web future."
   ]
  },
  {
   "cell_type": "markdown",
   "id": "d305df9a",
   "metadata": {},
   "source": [
    "## 2. Importation des Bibliothèques et Préparation des Données\n",
    "\n",
    "Nous importons les bibliothèques nécessaires pour la modélisation et l'évaluation. Nous allons ensuite charger (ou recréer en exécutant les étapes précédentes) les ensembles d'entraînement et de test prétraités (`X_train`, `X_test`, `y_train`, `y_test`)."
   ]
  },
  {
   "cell_type": "code",
   "execution_count": 2,
   "id": "3d7e8b05",
   "metadata": {},
   "outputs": [
    {
     "name": "stdout",
     "output_type": "stream",
     "text": [
      "Nettoyage de la colonne 'text'...\n",
      "Nettoyage terminé.\n",
      "Application du traitement avancé (tokenisation, stopwords, lemmatisation) sur 'cleaned_text'...\n",
      "Traitement avancé terminé.\n",
      "Colonne 'cleaned_text' supprimée.\n",
      "Vectorisation du texte en utilisant TF-IDF...\n",
      "Vectorisation terminée.\n",
      "Forme de la matrice TF-IDF (nombre de documents, taille du vocabulaire) : (499, 130)\n",
      "Forme du vecteur cible : (499,)\n",
      "Division des données en ensembles d'entraînement et de test...\n",
      "Division terminée.\n",
      "Forme de l'ensemble d'entraînement (X_train) : (399, 130)\n",
      "Forme de l'ensemble de test (X_test) : (100, 130)\n",
      "Forme des labels d'entraînement (y_train) : (399,)\n",
      "Forme des labels de test (y_test) : (100,)\n",
      "\n",
      "Distribution des sentiments dans y_train :\n",
      "sentiment\n",
      "neutral     39.849624\n",
      "positive    33.333333\n",
      "negative    26.817043\n",
      "Name: proportion, dtype: float64\n",
      "\n",
      "Distribution des sentiments dans y_test :\n",
      "sentiment\n",
      "neutral     40.0\n",
      "positive    33.0\n",
      "negative    27.0\n",
      "Name: proportion, dtype: float64\n"
     ]
    }
   ],
   "source": [
    "# Importation des bibliothèques de scikit-learn pour les modèles et les métriques\n",
    "from sklearn.naive_bayes import MultinomialNB # Un modèle simple et souvent efficace pour le texte\n",
    "from sklearn.linear_model import LogisticRegression\n",
    "from sklearn.svm import LinearSVC # Un SVM linéaire, performant sur texte\n",
    "from sklearn.metrics import accuracy_score, precision_score, recall_score, f1_score, confusion_matrix, classification_report\n",
    "import matplotlib.pyplot as plt\n",
    "import seaborn as sns\n",
    "import pandas as pd\n",
    "import re\n",
    "import string\n",
    "\n",
    "file_path = '../data/sentiment_analysis.csv'\n",
    "df = pd.read_csv(file_path)\n",
    "text_column = 'text'\n",
    "sentiment_column = 'sentiment'\n",
    "\n",
    "# Fonction pour nettoyer un commentaire\n",
    "def clean_text(text):\n",
    "    if isinstance(text, str): # S'assurer que l'entrée est une chaîne\n",
    "        text = text.lower() # 1. Convertir en minuscules\n",
    "        text = re.sub(r'http\\S+|www\\S+|https\\S+', '', text, flags=re.MULTILINE) # 2. Supprimer les URLs\n",
    "        text = re.sub(r'\\@\\w+|\\#','', text) # 3. Supprimer les mentions (@) et hashtags (#)\n",
    "        text = re.sub(r'\\d+', '', text) # 4. Supprimer les chiffres\n",
    "        text = text.translate(str.maketrans('', '', string.punctuation)) # 5. Supprimer la ponctuation\n",
    "        text = text.strip() # 6. Supprimer les espaces blancs en début et fin\n",
    "        # Suppression des espaces multiples\n",
    "        text = re.sub(r'\\s+', ' ', text).strip()\n",
    "\n",
    "        return text\n",
    "    else:\n",
    "        return \"\" # Retourner une chaîne vide\n",
    "    \n",
    "\n",
    "if df is not None and text_column in df.columns:\n",
    "    print(f\"Nettoyage de la colonne '{text_column}'...\")\n",
    "    df['cleaned_text'] = df[text_column].apply(clean_text)\n",
    "    print(\"Nettoyage terminé.\")\n",
    "elif df is not None:\n",
    "    print(f\"Impossible d'appliquer le nettoyage : la colonne de texte '{text_column}' n'a pas été trouvée.\")\n",
    "    \n",
    "\n",
    "from nltk.stem import WordNetLemmatizer\n",
    "\n",
    "lemmatizer = WordNetLemmatizer()\n",
    "\n",
    "def advanced_text_processing(text):\n",
    "    if isinstance(text, str):\n",
    "        # Tokenisation\n",
    "        tokens = text.split() # Tokenisation simple par espace après nettoyage de la ponctuation\n",
    "\n",
    "        # Suppression des mots vides et lemmatisation\n",
    "        processed_tokens = [\n",
    "            lemmatizer.lemmatize(word) for word in tokens\n",
    "            if word not in stop_words_english and len(word) > 1 # Supprime stopwords et mots courts\n",
    "        ]\n",
    "\n",
    "        return \" \".join(processed_tokens)\n",
    "    return \"\"\n",
    "\n",
    "from nltk.corpus import stopwords\n",
    "\n",
    "stop_words_english = set(stopwords.words('english'))\n",
    "if df is not None and 'cleaned_text' in df.columns:\n",
    "    print(f\"Application du traitement avancé (tokenisation, stopwords, lemmatisation) sur 'cleaned_text'...\")\n",
    "    # Appliquez la fonction sur la colonne de texte nettoyée\n",
    "    df['processed_text'] = df['cleaned_text'].apply(advanced_text_processing)\n",
    "    print(\"Traitement avancé terminé.\")\n",
    "\n",
    "    df = df.drop('cleaned_text', axis=1) # Supprimez la colonne nettoyée pour économiser de l'espace mémoire\n",
    "    print(\"Colonne 'cleaned_text' supprimée.\")\n",
    "\n",
    "elif df is not None:\n",
    "     print(f\"Erreur : La colonne 'cleaned_text' n'a pas été trouvée. Assurez-vous que le nettoyage a bien été exécuté.\")\n",
    "     \n",
    "\n",
    "from sklearn.feature_extraction.text import TfidfVectorizer\n",
    "\n",
    "if df is not None and 'processed_text' in df.columns and sentiment_column in df.columns:\n",
    "    print(\"Vectorisation du texte en utilisant TF-IDF...\")\n",
    "\n",
    "    # Initialisation du TfidfVectorizer\n",
    "    # min_df: ignore les termes qui apparaissent dans moins de X documents\n",
    "    # max_df: ignore les termes qui apparaissent dans plus de X% des documents\n",
    "    # ngram_range: considère des n-grammes de 1 mot (unigrammes)\n",
    "    tfidf_vectorizer = TfidfVectorizer(max_features=5000, # Limite le vocabulaire aux 5000 mots/n-grammes les plus fréquents\n",
    "                                       min_df=5,         # Ignore les termes qui apparaissent dans moins de 5 documents\n",
    "                                       max_df=0.8)       # Ignore les termes qui apparaissent dans plus de 80% des documents\n",
    "\n",
    "    # Adaptez le vectoriseur sur le texte prétraité et transformez-le\n",
    "    X = tfidf_vectorizer.fit_transform(df['processed_text'])\n",
    "\n",
    "    # La variable cible (sentiment)\n",
    "    y = df[sentiment_column]\n",
    "\n",
    "    print(\"Vectorisation terminée.\")\n",
    "    print(f\"Forme de la matrice TF-IDF (nombre de documents, taille du vocabulaire) : {X.shape}\")\n",
    "    print(f\"Forme du vecteur cible : {y.shape}\")\n",
    "\n",
    "elif df is not None:\n",
    "     print(f\"Erreur : Les colonnes 'processed_text' ou '{sentiment_column}' n'ont pas été trouvées. Vérifiez les étapes précédentes.\")\n",
    "else:\n",
    "     print(\"Erreur : Le DataFrame n'est pas chargé.\")\n",
    "     \n",
    "\n",
    "from sklearn.model_selection import train_test_split\n",
    "\n",
    "if 'X' in locals() and 'y' in locals():\n",
    "    print(\"Division des données en ensembles d'entraînement et de test...\")\n",
    "\n",
    "    # Division en entraînement (80%) et test (20%)\n",
    "    # random_state: assure la reproductibilité de la division\n",
    "    # stratify=y: assure que les proportions des classes de sentiment sont maintenues dans les deux ensembles\n",
    "    X_train, X_test, y_train, y_test = train_test_split(X, y, test_size=0.2, random_state=42, stratify=y)\n",
    "\n",
    "\n",
    "    print(\"Division terminée.\")\n",
    "    print(f\"Forme de l'ensemble d'entraînement (X_train) : {X_train.shape}\")\n",
    "    print(f\"Forme de l'ensemble de test (X_test) : {X_test.shape}\")\n",
    "    print(f\"Forme des labels d'entraînement (y_train) : {y_train.shape}\")\n",
    "    print(f\"Forme des labels de test (y_test) : {y_test.shape}\")\n",
    "\n",
    "    # Vérifier la distribution des classes dans les ensembles\n",
    "    print(\"\\nDistribution des sentiments dans y_train :\")\n",
    "    print(y_train.value_counts(normalize=True) * 100)\n",
    "    print(\"\\nDistribution des sentiments dans y_test :\")\n",
    "    print(y_test.value_counts(normalize=True) * 100)\n",
    "\n",
    "else:\n",
    "     print(\"Erreur : Les variables X ou y n'ont pas été créées. Vérifiez l'étape de vectorisation.\")"
   ]
  },
  {
   "cell_type": "markdown",
   "id": "85a06668",
   "metadata": {},
   "source": [
    "## 3. Sélection et Entraînement des Modèles\n",
    "\n",
    "Nous allons entraîner plusieurs modèles de classification sur l'ensemble d'entraînement (`X_train`, `y_train`).\n",
    "\n",
    "Modèles considérés :\n",
    "- Naive Bayes Multinomial : Souvent un bon point de départ pour la classification de texte avec des comptes de mots ou TF-IDF. Simple et rapide.\n",
    "- Régression Logistique : Un modèle linéaire simple et interprétable qui sert de bon baseline.\n",
    "- Linear SVM (SVC) : Un modèle linéaire puissant qui fonctionne bien dans des espaces de grande dimension comme les données TF-IDF."
   ]
  },
  {
   "cell_type": "code",
   "execution_count": 3,
   "id": "d469ea62",
   "metadata": {},
   "outputs": [
    {
     "name": "stdout",
     "output_type": "stream",
     "text": [
      "Entraînement du modèle Naive Bayes Multinomial...\n",
      "Entraînement de Naive Bayes terminé.\n"
     ]
    }
   ],
   "source": [
    "# --- Entraînement du Modèle Naive Bayes Multinomial ---\n",
    "if 'X_train' in locals() and 'y_train' in locals():\n",
    "    print(\"Entraînement du modèle Naive Bayes Multinomial...\")\n",
    "    mnb = MultinomialNB()\n",
    "    mnb.fit(X_train, y_train)\n",
    "    print(\"Entraînement de Naive Bayes terminé.\")\n",
    "else:\n",
    "    print(\"Erreur : Les données d'entraînement (X_train, y_train) ne sont pas disponibles.\")\n"
   ]
  },
  {
   "cell_type": "code",
   "execution_count": 4,
   "id": "c0edff77",
   "metadata": {},
   "outputs": [
    {
     "name": "stdout",
     "output_type": "stream",
     "text": [
      "Entraînement du modèle Régression Logistique...\n",
      "Entraînement de Régression Logistique terminé.\n"
     ]
    }
   ],
   "source": [
    "# --- Entraînement du Modèle Régression Logistique ---\n",
    "if 'X_train' in locals() and 'y_train' in locals():\n",
    "    print(\"Entraînement du modèle Régression Logistique...\")\n",
    "    # Utilisation de solver='liblinear' pour les petits datasets ou L1 pénalisation\n",
    "    # max_iter peut être augmenté si le modèle ne converge pas\n",
    "    logreg = LogisticRegression(solver='liblinear', random_state=42)\n",
    "    logreg.fit(X_train, y_train)\n",
    "    print(\"Entraînement de Régression Logistique terminé.\")\n",
    "else:\n",
    "     print(\"Erreur : Les données d'entraînement (X_train, y_train) ne sont pas disponibles.\")\n"
   ]
  },
  {
   "cell_type": "code",
   "execution_count": 5,
   "id": "02905a9b",
   "metadata": {},
   "outputs": [
    {
     "name": "stdout",
     "output_type": "stream",
     "text": [
      "Entraînement du modèle Linear SVM...\n",
      "Entraînement de Linear SVM terminé.\n"
     ]
    }
   ],
   "source": [
    "# --- Entraînement du Modèle Linear SVM ---\n",
    "if 'X_train' in locals() and 'y_train' in locals():\n",
    "    print(\"Entraînement du modèle Linear SVM...\")\n",
    "    # LinearSVC est une implémentation plus rapide de SVM pour les problèmes linéaires\n",
    "    lsvc = LinearSVC(random_state=42, dual=False) # dual=False recommandé pour n_samples > n_features\n",
    "    lsvc.fit(X_train, y_train)\n",
    "    print(\"Entraînement de Linear SVM terminé.\")\n",
    "else:\n",
    "     print(\"Erreur : Les données d'entraînement (X_train, y_train) ne sont pas disponibles.\")\n"
   ]
  },
  {
   "cell_type": "markdown",
   "id": "7a416e26",
   "metadata": {},
   "source": [
    "## 4. Évaluation des Modèles\n",
    "\n",
    "Nous allons évaluer chaque modèle entraîné sur l'ensemble de test (`X_test`, `y_test`) et calculer diverses métriques de performance. Étant donné le léger déséquilibre des classes, le F1-score et le rapport de classification (qui inclut précision, rappel et F1-score par classe) seront particulièrement informatifs, en plus de l'accuracy globale."
   ]
  },
  {
   "cell_type": "code",
   "execution_count": 6,
   "id": "e101330f",
   "metadata": {},
   "outputs": [],
   "source": [
    "# Fonction pour évaluer un modèle et afficher les métriques\n",
    "def evaluate_model(model, X_test, y_test, model_name):\n",
    "    if 'X_test' in locals() and 'y_test' in locals():\n",
    "        print(f\"\\n--- Évaluation du Modèle : {model_name} ---\")\n",
    "\n",
    "        # Prédictions sur l'ensemble de test\n",
    "        y_pred = model.predict(X_test)\n",
    "\n",
    "        # Calcul des métriques\n",
    "        accuracy = accuracy_score(y_test, y_pred)\n",
    "        \n",
    "        precision = precision_score(y_test, y_pred, average='weighted', zero_division=0) # zero_division=0 pour éviter les erreurs si une classe n'a pas de prédictions\n",
    "        recall = recall_score(y_test, y_pred, average='weighted', zero_division=0)\n",
    "        f1 = f1_score(y_test, y_pred, average='weighted', zero_division=0)\n",
    "\n",
    "        print(f\"Accuracy: {accuracy:.4f}\")\n",
    "        print(f\"Precision (weighted): {precision:.4f}\")\n",
    "        print(f\"Recall (weighted): {recall:.4f}\")\n",
    "        print(f\"F1-Score (weighted): {f1:.4f}\")\n",
    "\n",
    "        # Rapport de classification détaillé (par classe)\n",
    "        print(\"\\nRapport de Classification :\")\n",
    "        print(classification_report(y_test, y_pred, zero_division=0))\n",
    "\n",
    "        # Matrice de Confusion\n",
    "        print(\"\\nMatrice de Confusion :\")\n",
    "        cm = confusion_matrix(y_test, y_pred)\n",
    "        print(cm)\n",
    "\n",
    "        # Visualisation de la Matrice de Confusion\n",
    "        plt.figure(figsize=(8, 6))\n",
    "        # Récupérez les noms des classes pour les labels de la matrice\n",
    "        labels = sorted(y_test.unique())\n",
    "        sns.heatmap(cm, annot=True, fmt='d', cmap='Blues', xticklabels=labels, yticklabels=labels)\n",
    "        plt.title(f'Matrice de Confusion pour {model_name}')\n",
    "        plt.xlabel('Prédit')\n",
    "        plt.ylabel('Réel')\n",
    "        plt.show()\n",
    "\n",
    "        return accuracy, precision, recall, f1 # Retourne les métriques principales si besoin\n",
    "    else:\n",
    "         print(\"Erreur : Les données de test (X_test, y_test) ne sont pas disponibles pour l'évaluation.\")\n",
    "         return None, None, None, None # Retourne None en cas d'erreur\n"
   ]
  },
  {
   "cell_type": "markdown",
   "id": "9b3b6092",
   "metadata": {},
   "source": [
    "*Commentaire :* La fonction `evaluate_model` prend un modèle entraîné et les données de test. Elle calcule l'accuracy globale, la précision, le rappel et le F1-score (en utilisant la moyenne pondérée pour tenir compte du déséquilibre). Le `classification_report` donne ces métriques pour chaque classe individuellement. La matrice de confusion visualise le nombre de vrais positifs/négatifs et faux positifs/négatifs par classe, ce qui est très utile pour comprendre où le modèle fait des erreurs, surtout avec des classes déséquilibrées."
   ]
  },
  {
   "cell_type": "code",
   "execution_count": 7,
   "id": "0a4d4c13",
   "metadata": {},
   "outputs": [
    {
     "name": "stdout",
     "output_type": "stream",
     "text": [
      "\n",
      "--- Évaluation du Modèle : Naive Bayes Multinomial ---\n",
      "Accuracy: 0.6200\n",
      "Precision (weighted): 0.6359\n",
      "Recall (weighted): 0.6200\n",
      "F1-Score (weighted): 0.6124\n",
      "\n",
      "Rapport de Classification :\n",
      "              precision    recall  f1-score   support\n",
      "\n",
      "    negative       0.65      0.41      0.50        27\n",
      "     neutral       0.56      0.78      0.65        40\n",
      "    positive       0.71      0.61      0.66        33\n",
      "\n",
      "    accuracy                           0.62       100\n",
      "   macro avg       0.64      0.60      0.60       100\n",
      "weighted avg       0.64      0.62      0.61       100\n",
      "\n",
      "\n",
      "Matrice de Confusion :\n",
      "[[11 16  0]\n",
      " [ 1 31  8]\n",
      " [ 5  8 20]]\n"
     ]
    },
    {
     "data": {
      "image/png": "[encoded data removed]",
      "text/plain": [
       "<Figure size 800x600 with 2 Axes>"
      ]
     },
     "metadata": {},
     "output_type": "display_data"
    }
   ],
   "source": [
    "# Évaluation du modèle Naive Bayes Multinomial\n",
    "if 'mnb' in locals():\n",
    "     evaluate_model(mnb, X_test, y_test, \"Naive Bayes Multinomial\")"
   ]
  },
  {
   "cell_type": "code",
   "execution_count": 8,
   "id": "95b2ed79",
   "metadata": {},
   "outputs": [
    {
     "name": "stdout",
     "output_type": "stream",
     "text": [
      "\n",
      "--- Évaluation du Modèle : Régression Logistique ---\n",
      "Accuracy: 0.6400\n",
      "Precision (weighted): 0.6601\n",
      "Recall (weighted): 0.6400\n",
      "F1-Score (weighted): 0.6309\n",
      "\n",
      "Rapport de Classification :\n",
      "              precision    recall  f1-score   support\n",
      "\n",
      "    negative       0.65      0.41      0.50        27\n",
      "     neutral       0.58      0.82      0.68        40\n",
      "    positive       0.77      0.61      0.68        33\n",
      "\n",
      "    accuracy                           0.64       100\n",
      "   macro avg       0.67      0.61      0.62       100\n",
      "weighted avg       0.66      0.64      0.63       100\n",
      "\n",
      "\n",
      "Matrice de Confusion :\n",
      "[[11 16  0]\n",
      " [ 1 33  6]\n",
      " [ 5  8 20]]\n"
     ]
    },
    {
     "data": {
      "image/png": "[encoded data removed]",
      "text/plain": [
       "<Figure size 800x600 with 2 Axes>"
      ]
     },
     "metadata": {},
     "output_type": "display_data"
    }
   ],
   "source": [
    "# Évaluation du modèle Régression Logistique\n",
    "if 'logreg' in locals():\n",
    "     evaluate_model(logreg, X_test, y_test, \"Régression Logistique\")"
   ]
  },
  {
   "cell_type": "code",
   "execution_count": 9,
   "id": "f459b0a4",
   "metadata": {},
   "outputs": [
    {
     "name": "stdout",
     "output_type": "stream",
     "text": [
      "\n",
      "--- Évaluation du Modèle : Linear SVM ---\n",
      "Accuracy: 0.6500\n",
      "Precision (weighted): 0.6493\n",
      "Recall (weighted): 0.6500\n",
      "F1-Score (weighted): 0.6430\n",
      "\n",
      "Rapport de Classification :\n",
      "              precision    recall  f1-score   support\n",
      "\n",
      "    negative       0.57      0.44      0.50        27\n",
      "     neutral       0.64      0.80      0.71        40\n",
      "    positive       0.72      0.64      0.68        33\n",
      "\n",
      "    accuracy                           0.65       100\n",
      "   macro avg       0.65      0.63      0.63       100\n",
      "weighted avg       0.65      0.65      0.64       100\n",
      "\n",
      "\n",
      "Matrice de Confusion :\n",
      "[[12 13  2]\n",
      " [ 2 32  6]\n",
      " [ 7  5 21]]\n"
     ]
    },
    {
     "data": {
      "image/png": "[encoded data removed]",
      "text/plain": [
       "<Figure size 800x600 with 2 Axes>"
      ]
     },
     "metadata": {},
     "output_type": "display_data"
    }
   ],
   "source": [
    "# Évaluation du modèle Linear SVM\n",
    "if 'lsvc' in locals():\n",
    "     evaluate_model(lsvc, X_test, y_test, \"Linear SVM\")"
   ]
  },
  {
   "cell_type": "markdown",
   "id": "8c37cb14",
   "metadata": {},
   "source": [
    "## 5. Comparaison des Modèles\n",
    "\n",
    "Après avoir évalué les trois modèles sur l'ensemble de test, nous pouvons comparer leurs performances en examinant les métriques obtenues.\n",
    "\n",
    "**Résumé des Performances (sur l'ensemble de test) :**\n",
    "\n",
    "| Modèle                  | Accuracy | Precision (weighted) | Recall (weighted) | F1-Score (weighted) | Commentaire Clés (par classe) |\n",
    "|-------------------------|----------|----------------------|-------------------|---------------------|-------------------------------|\n",
    "| Naive Bayes Multinomial | 0.6200 | 0.6359        | 0.6200    | 0.6124       | Le modèle semble avoir un biais vers la classe \"neutral\" (55 prédictions contre 40 réels). Meilleure performance sur la détection des éléments neutres (rappel 78%) Plus grande difficulté à détecter les éléments négatifs (rappel 41%). Meilleure précision pour les prédictions positives (71%) |\n",
    "| Régression Logistique   | 0.6400 | 0.6601        | 0.6400    | 0.6309     | il existe un biais vers la classe \"neutre\" (57 prédictions contre 40 réels), mais cette tendance est légèrement compensée par un meilleur F1-score pour cette classe (0.68). Bonne détection des cas neutres (rappel 82%) et bonne précision pour les cas positifs (77%). Difficulté persistante à détecter les cas négatifs (rappel 41%). Le modèle a tendance à \"jouer la sécurité\" en classant beaucoup d'observations comme neutres    |\n",
    "| Linear SVM              | 0.6500 | 0.6493       | 0.6500    | 0.6430       | Le modèle SVM montre une tendance à classer moins d'éléments comme neutres (50 contre 57 pour la régression logistique), ce qui indique un meilleur équilibre entre les classes. Performance équilibrée entre les classes (F1-scores plus homogènes). Bonne détection des cas neutres (rappel 80%). Confusion entre négatif et positif plus prononcée (7 cas positifs classés comme négatifs). Difficulté persistante à détecter les cas négatifs (rappel 44%)    |\n",
    "\n",
    "**Interprétation :**\n",
    "\n",
    "* Le modèle Linear SVM a la meilleure Accuracy globale (0.6500), suivi de près par la Régression Logistique (0.6400), puis Naive Bayes (0.6200)\n",
    "* Le modèle Linear SVM obtient également le meilleur F1-Score pondéré (0.6430), indiquant une meilleure performance globale équilibrée en tenant compte du nombre d'échantillons par classe, comparativement à la Régression Logistique (0.6309) et Naive Bayes (0.6124). Le F1-score pondéré est important avec le déséquilibre des classes car il fournit une métrique unique qui résume la performance en considérant à la fois la Précision et le Rappel pour chaque classe, pondérée par leur support (nombre d'échantillons), ce qui donne une vision plus fidèle de la performance globale sur l'ensemble du dataset déséquilibré que la simple Accuracy.\n",
    "* En regardant les commentaires clés et en se concentrant sur les métriques pour les classes 'positive' et 'negative' (qui sont minoritaires par rapport à 'neutral'):\n",
    "    - Tous les modèles ont une difficulté notable à détecter les cas négatifs, avec un Rappel relativement bas pour cette classe (autour de 41-44%). Le Linear SVM semble avoir un léger avantage en termes de Rappel pour la classe négative (44%) par rapport aux autres (41%)\n",
    "    - Pour la classe positive, la Régression Logistique montre la meilleure Précision (77%)\n",
    "    - Le Linear SVM se distingue par des F1-scores plus homogènes entre les classes, suggérant une meilleure performance relative sur les classes minoritaires comparé à la forte tendance des deux autres modèles à prédire 'neutral'. Cependant, il semble y avoir plus de confusion entre 'négatif' et 'positive' pour le SVM. En résumé, aucun modèle ne domine clairement sur les classes minoritaires à ce stade. Le Linear SVM montre un léger meilleur rappel sur le négatif et une meilleure balance globale, tandis que la Régression Logistique a une meilleure précision sur le positif.\n",
    "* Les modèles Naive Bayes et Régression Logistique excellent à identifier la classe 'neutral' (haut Recall : 78% et 82%), mais au prix d'un fort biais à prédire 'neutral' (beaucoup plus de prédictions 'neutral' que d'échantillons réels), ce qui se voit dans leurs commentaires.\n",
    "* La Régression Logistique a une très bonne précision pour les prédictions 'positive' (77%).\n",
    "* Tous les modèles ont du mal à rappeler les cas 'negative' (Rappel faible autour de 41-44%).\n",
    "* Le Linear SVM semble mieux équilibré dans ses prédictions, avec moins de biais vers la classe 'neutral', mais il rencontre des confusions notables entre les classes 'negative' et 'positive'.\n",
    "\n",
    "Sur la base de cette première évaluation, le modèle [Nom du ou des modèles les plus prometteurs] semble(nt) être le(s) plus performant(s) pour notre tâche de classification de sentiment, en particulier en ce qui concerne [justifiez ici - ex: leur capacité à bien identifier les classes minoritaires, ou leur bon compromis global]."
   ]
  },
  {
   "cell_type": "markdown",
   "id": "f37571ba",
   "metadata": {},
   "source": [
    "## 6. Conclusion et Prochaines Étapes\n",
    "\n",
    "Nous avons entraîné et évalué trois modèles de classification classiques (Naive Bayes, Régression Logistique, Linear SVM) sur nos données de sentiment vectorisées avec TF-IDF. L'évaluation sur l'ensemble de test nous a donné une première indication de leurs performances, en tenant compte du léger déséquilibre des classes.\n",
    "\n",
    "### Réflexions pour la suite :\n",
    "* Les performances obtenues sont un bon point de départ.\n",
    "* Il pourrait être pertinent d'expérimenter avec d'autres techniques de vectorisation (par exemple, différentes configurations de TF-IDF, ou des Word Embeddings comme Word2Vec ou GloVe si nous envisageons des modèles de deep learning).\n",
    "* L'ajustement des hyperparamètres des modèles sélectionnés pourrait améliorer les performances.\n",
    "* L'exploration de modèles plus avancés (comme des réseaux de neurones simples ou des Transformers pour le texte si les ressources le permettent et si l'amélioration de performance justifie la complexité et le temps d'inférence pour l'application web) est une option.\n",
    "* La gestion spécifique du déséquilibre des classes (suréchantillonnage, sous-échantillonnage) pourrait être testée si les performances sur les classes minoritaires ne sont pas satisfaisantes.\n",
    "\n",
    "### Prochaines Étapes :\n",
    "\n",
    "La prochaine phase consistera à :\n",
    "1. **Affiner les Modèles :** Potentiellement ajuster les hyperparamètres des modèles prometteurs ou explorer d'autres modèles/techniques de vectorisation.\n",
    "2. **Sélectionner le Modèle Final :** Choisir le modèle qui représente le meilleur compromis entre performance (en particulier sur les classes minoritaires), vitesse d'inférence, et complexité de mise en œuvre pour l'application web.\n",
    "3. **Justifier la Sélection du Modèle :** Documenter en détail pourquoi ce modèle spécifique a été choisi.\n",
    "4. **Préparer le Modèle pour le Déploiement :** Sauvegarder le modèle entraîné et le vectoriseur."
   ]
  },
  {
   "cell_type": "markdown",
   "id": "2ec71c6e",
   "metadata": {},
   "source": [
    "## 7. Sélection du Modèle Final et Justification\n",
    "\n",
    "Sur la base de l'évaluation des performances dans la section précédente, nous allons sélectionner le modèle qui représente le meilleur compromis pour notre objectif : un modèle performant pour la classification de sentiment, qui soit également adapté à une intégration dans une application web (en termes de vitesse d'inférence et de complexité)."
   ]
  },
  {
   "cell_type": "markdown",
   "id": "07595f27",
   "metadata": {},
   "source": [
    "### Justification du Modèle Choisi\n",
    "\n",
    "Après examen des métriques (Accuracy, F1-score pondéré et par classe, Rappel sur les classes minoritaires) et des matrices de confusion :\n",
    "\n",
    "* Le modèle **Linear SVM** a démontré la meilleure performance globale avec une Accuracy de **0.6500** et un F1-Score pondéré de **0.6430**.\n",
    "* Bien que tous les modèles aient montré des difficultés avec la classe \"negative\" (faible Rappel), le **Linear SVM** a obtenu un Rappel légèrement supérieur pour cette classe (44%) et a montré une meilleure **balance** dans ses prédictions par rapport aux biais prononcés de Naive Bayes et de la Régression Logistique vers la classe \"neutral\".\n",
    "* La **Régression Logistique** était également performante, notamment avec une bonne précision pour la classe \"positive\", mais son biais vers la classe \"neutral\" est un facteur à considérer.\n",
    "* Le modèle **Naive Bayes** était le moins performant des trois sur les métriques globales.\n",
    "\n",
    "En plus des performances sur l'ensemble de test, nous considérons l'adéquation pour une application web :\n",
    "* Les trois modèles classiques (Naive Bayes, Régression Logistique, SVM) sont généralement **rapides** en termes de temps d'inférence par rapport aux modèles de deep learning plus complexes, ce qui est un avantage pour une application web réactive.\n",
    "* Ils ont également une **taille de modèle** raisonnable.\n",
    "* Parmi les trois, le **Linear SVM** offre le meilleur compromis entre la **performance validée** sur l'ensemble de test (meilleur F1-weighted, meilleur Rappel sur négatif) et les **contraintes de déploiement** (rapidité). Son approche moins biaisée que les deux autres est un atout.\n",
    "\n",
    "**Conclusion du Choix :**\n",
    "\n",
    "Sur la base de cette analyse comparative et des considérations pratiques pour l'intégration web, nous sélectionnons le modèle **Linear SVM** entraîné avec les features TF-IDF comme notre modèle final pour la prédiction de sentiment."
   ]
  },
  {
   "cell_type": "markdown",
   "id": "5fe18df9",
   "metadata": {},
   "source": [
    "## 8. Sauvegarde du Modèle et du Vectoriseur\n",
    "\n",
    "Pour pouvoir utiliser le modèle entraîné et le vectoriseur TF-IDF dans l'application web ou pour de futures prédictions, nous devons les sauvegarder sur disque. Nous utiliserons la bibliothèque `joblib` pour cela."
   ]
  },
  {
   "cell_type": "code",
   "execution_count": 12,
   "id": "b4c5470e",
   "metadata": {},
   "outputs": [
    {
     "name": "stdout",
     "output_type": "stream",
     "text": [
      "Sauvegarde du modèle Linear SVM vers ../models/linear_svc_model.pkl...\n",
      "Modèle sauvegardé.\n",
      "Sauvegarde du vectoriseur TF-IDF vers ../models/tfidf_vectorizer.pkl...\n",
      "Vectoriseur sauvegardé.\n"
     ]
    }
   ],
   "source": [
    "\n",
    "# Sauvegarde du modèle et du vectoriseur\n",
    "import pickle\n",
    "\n",
    "model_filename = '../models/linear_svc_model.pkl'\n",
    "vectorizer_filename = '../models/tfidf_vectorizer.pkl'\n",
    "\n",
    "# Vérifiez que le modèle choisi (lsvc) et le vectorizer (tfidf_vectorizer) existent\n",
    "if 'lsvc' in locals() and 'tfidf_vectorizer' in locals():\n",
    "    print(f\"Sauvegarde du modèle Linear SVM vers {model_filename}...\")\n",
    "    pickle.dump(lsvc, open(model_filename, 'wb'))\n",
    "    print(\"Modèle sauvegardé.\")\n",
    "\n",
    "    print(f\"Sauvegarde du vectoriseur TF-IDF vers {vectorizer_filename}...\")\n",
    "    pickle.dump(tfidf_vectorizer, open(vectorizer_filename, 'wb'))\n",
    "    print(\"Vectoriseur sauvegardé.\")\n",
    "else:\n",
    "    print(\"Erreur : Le modèle (lsvc) ou le vectoriseur (tfidf_vectorizer) ne sont pas disponibles pour la sauvegarde.\")\n"
   ]
  },
  {
   "cell_type": "markdown",
   "id": "12da2f14",
   "metadata": {},
   "source": [
    "*Commentaire :* Nous utilisons `joblib.dump` pour sauvegarder le modèle SVM entraîné et l'objet `TfidfVectorizer`. Ces fichiers pourront être chargés ultérieurement pour faire des prédictions sur de nouvelles données sans avoir à ré-entraîner le modèle. Le vectoriseur est tout aussi important que le modèle car il doit être appliqué exactement de la même manière aux nouvelles données qu'aux données d'entraînement."
   ]
  }
 ],
 "metadata": {
  "kernelspec": {
   "display_name": "Python 3",
   "language": "python",
   "name": "python3"
  },
  "language_info": {
   "codemirror_mode": {
    "name": "ipython",
    "version": 3
   },
   "file_extension": ".py",
   "mimetype": "text/x-python",
   "name": "python",
   "nbconvert_exporter": "python",
   "pygments_lexer": "ipython3",
   "version": "3.9.11"
  }
 },
 "nbformat": 4,
 "nbformat_minor": 5
}
